{
  "cells": [
    {
      "cell_type": "markdown",
      "metadata": {
        "id": "view-in-github",
        "colab_type": "text"
      },
      "source": [
        "<a href=\"https://colab.research.google.com/github/kk-lee867/slm-baseline-pj-microsoft-phi3-mini-4k-instruct/blob/main/Chapter0_modified_for_gpu_server.ipynb\" target=\"_parent\"><img src=\"https://colab.research.google.com/assets/colab-badge.svg\" alt=\"Open In Colab\"/></a>"
      ]
    },
    {
      "cell_type": "markdown",
      "id": "88b48542",
      "metadata": {
        "id": "88b48542"
      },
      "source": [
        "## Chapter 0: TL;DR\n",
        "\n",
        "### Spoilers\n",
        "\n",
        "In this short chapter, we'll get right to it and fine-tune a small-ish language model, Microsoft's Phi-3 Mini 4K Instruct, to translate English into Yoda-speak. You can think of this initial chapters as a recipe you can just follow. It is a \"shoot first, ask questions later\" kind of chapter.\n",
        "\n",
        "You'll learn how to:\n",
        "- load a quantized model using `BitsAndBytes`\n",
        "- configure low-rank adapters (LoRA) using Hugging Face's `peft`\n",
        "- load and format a dataset\n",
        "- fine-tune the model using the supervised fine-tuning trainer (`SFTTrainer`) from Hugging Face's `trl`\n",
        "- use the fine-tuned model to generate a few sentences"
      ]
    },
    {
      "cell_type": "markdown",
      "id": "5cb88c3d",
      "metadata": {
        "id": "5cb88c3d"
      },
      "source": [
        "### Setup\n",
        "\n",
        "For better reproducibility during training, use the pinned versions below, the same versions used in the book:"
      ]
    },
    {
      "cell_type": "code",
      "execution_count": null,
      "id": "2a165c97",
      "metadata": {
        "id": "2a165c97"
      },
      "outputs": [],
      "source": [
        "# bitsandbytes had to be bumped to 0.45.2 to avoid errors in Colab env\n",
        "!pip install transformers==4.46.2 peft==0.13.2 accelerate==1.1.1 trl==0.12.1 bitsandbytes==0.45.2 datasets==3.1.0 huggingface-hub==0.26.2 safetensors==0.4.5 pandas==2.2.2 matplotlib==3.8.0 numpy==1.26.4"
      ]
    },
    {
      "cell_type": "code",
      "execution_count": null,
      "id": "fd8c357f",
      "metadata": {
        "id": "fd8c357f"
      },
      "outputs": [],
      "source": [
        "# If you're running on Colab\n",
        "#!pip install datasets bitsandbytes trl"
      ]
    },
    {
      "cell_type": "code",
      "execution_count": null,
      "id": "def287c0",
      "metadata": {
        "id": "def287c0"
      },
      "outputs": [],
      "source": [
        "# If you're running on runpod.io's Jupyter Template\n",
        "#!pip install datasets bitsandbytes trl transformers peft huggingface-hub accelerate safetensors pandas matplotlib"
      ]
    },
    {
      "cell_type": "markdown",
      "id": "ab94a803",
      "metadata": {
        "id": "ab94a803"
      },
      "source": [
        "### Imports"
      ]
    },
    {
      "cell_type": "code",
      "execution_count": null,
      "id": "b9d45274",
      "metadata": {
        "id": "b9d45274",
        "scrolled": true
      },
      "outputs": [],
      "source": [
        "import os\n",
        "import torch\n",
        "from datasets import load_dataset\n",
        "from peft import get_peft_model, LoraConfig, prepare_model_for_kbit_training\n",
        "from transformers import AutoModelForCausalLM, AutoTokenizer, BitsAndBytesConfig\n",
        "from trl import SFTConfig, SFTTrainer"
      ]
    },
    {
      "cell_type": "markdown",
      "id": "a64ffab5",
      "metadata": {
        "id": "a64ffab5"
      },
      "source": [
        "## Loading a Quantized Base Model\n",
        "\n",
        "We start by loading a quantized model, so it takes up less space in the GPU's RAM. A quantized model replaces the original weights with approximate values that are represented by fewer bits. The simplest and most straightforward way to quantize a model is to turn its weights from 32-bit floating-point (FP32) numbers into 4-bit floating-point numbers (NF4). This simple yet powerful change already **reduces the model's memory footprint** by roughly a factor of eight.\n",
        "\n",
        "We can use an instance of `BitsAndBytesConfig` as the `quantization_config` argument while loading a model using the `from_pretrained()` method. To keep it flexible, so you can try it out with any other model of your choice, we're using Hugging Face's\n",
        "`AutoModelForCausalLM`. The repo you choose to use determines the model being loaded.\n",
        "\n",
        "Without further ado, here's our quantized model being loaded:"
      ]
    },
    {
      "cell_type": "code",
      "execution_count": null,
      "id": "f5ad7668",
      "metadata": {
        "id": "f5ad7668"
      },
      "outputs": [],
      "source": [
        "bnb_config = BitsAndBytesConfig(\n",
        "   load_in_4bit=True,\n",
        "   bnb_4bit_quant_type=\"nf4\",\n",
        "   bnb_4bit_use_double_quant=True,\n",
        "   bnb_4bit_compute_dtype=torch.float32\n",
        ")\n",
        "repo_id = 'microsoft/Phi-3-mini-4k-instruct'\n",
        "model = AutoModelForCausalLM.from_pretrained(repo_id,\n",
        "                                             device_map=\"cuda:0\",\n",
        "                                             quantization_config=bnb_config\n",
        ")"
      ]
    },
    {
      "cell_type": "markdown",
      "id": "f26f487f",
      "metadata": {
        "id": "f26f487f"
      },
      "source": [
        "<blockquote class=\"note\">\n",
        "  <p>\n",
        "    <em>\"The Phi-3-Mini-4K-Instruct is a 3.8B parameters, lightweight, state-of-the-art open model trained with the Phi-3 datasets that includes both synthetic data and the filtered publicly available websites data with a focus on high-quality and reasoning dense properties. The model belongs to the Phi-3 family with the Mini version in two variants 4K and 128K which is the context length (in tokens) that it can support.\"</em>\n",
        "    <br>\n",
        "    Source: <a href=\"https://huggingface.co/microsoft/Phi-3-mini-4k-instruct\">Hugging Face Hub</a>\n",
        "  </p>\n",
        "</blockquote>\n",
        "\n",
        "Once the model is loaded, you can see how much space it occupies in memory using the `get_memory_footprint()` method."
      ]
    },
    {
      "cell_type": "code",
      "execution_count": null,
      "id": "8b3ac411",
      "metadata": {
        "id": "8b3ac411"
      },
      "outputs": [],
      "source": [
        "print(model.get_memory_footprint()/1e6)"
      ]
    },
    {
      "cell_type": "markdown",
      "id": "24f09ff7",
      "metadata": {
        "id": "24f09ff7"
      },
      "source": [
        "Even though it's been quantized, the model still takes up a bit more than 2 gigabytes of RAM. The **quantization** procedure focuses on the **linear layers within the Transformer decoder blocks** (also referred to as \"layers\" in some cases):"
      ]
    },
    {
      "cell_type": "code",
      "execution_count": null,
      "id": "cdc64043",
      "metadata": {
        "id": "cdc64043"
      },
      "outputs": [],
      "source": [
        "model"
      ]
    },
    {
      "cell_type": "markdown",
      "id": "1461b229",
      "metadata": {
        "id": "1461b229"
      },
      "source": [
        "A **quantized model** can be used directly for inference, but it **cannot be trained any further**. Those pesky `Linear4bit` layers take up much less space, which is the whole point of quantization; however, we cannot update them.\n",
        "\n",
        "We need to add something else to our mix, a sprinkle of adapters."
      ]
    },
    {
      "cell_type": "markdown",
      "id": "0f9e6061",
      "metadata": {
        "id": "0f9e6061"
      },
      "source": [
        "## Setting Up Low-Rank Adapters (LoRA)\n",
        "\n",
        "Low-rank adapters can be attached to each and every one of the quantized layers. The **adapters** are mostly **regular `Linear`  layers** that can be easily updated as usual. The clever trick in this case is that these adapters are significantly **smaller** than the layers that have been quantized.\n",
        "\n",
        "Since the **quantized layers are frozen** (they cannot be updated), setting up **LoRA adapters** on a quantized model drastically **reduces the total number of trainable parameters** to just 1% (or less) of its original size.\n",
        "\n",
        "We can set up LoRA adapters in three easy steps:\n",
        "\n",
        "* Call `prepare_model_for_kbit_training()` to _improve numerical stability_ during training.\n",
        "* Create an instance of `LoraConfig`.\n",
        "* Apply the configuration to the quantized base model using the `get_peft_model()` method.\n",
        "\n",
        "Let's try it out with our model:"
      ]
    },
    {
      "cell_type": "code",
      "execution_count": null,
      "id": "3edc24ed",
      "metadata": {
        "id": "3edc24ed"
      },
      "outputs": [],
      "source": [
        "model = prepare_model_for_kbit_training(model)\n",
        "\n",
        "config = LoraConfig(\n",
        "    r=8,                   # the rank of the adapter, the lower the fewer parameters you'll need to train\n",
        "    lora_alpha=16,         # multiplier, usually 2*r\n",
        "    bias=\"none\",           # BEWARE: training biases *modifies* base model's behavior\n",
        "    lora_dropout=0.05,\n",
        "    task_type=\"CAUSAL_LM\",\n",
        "    # Newer models, such as Phi-3 at time of writing, may require\n",
        "    # manually setting target modules\n",
        "    target_modules=['o_proj', 'qkv_proj', 'gate_up_proj', 'down_proj'],\n",
        ")\n",
        "\n",
        "model = get_peft_model(model, config)\n",
        "model"
      ]
    },
    {
      "cell_type": "markdown",
      "id": "611f1cf6",
      "metadata": {
        "id": "611f1cf6"
      },
      "source": [
        "The output of the other three LoRA layers (`qkv_proj`, `gate_up_proj`, and `down_proj`) was suppressed to shorten the output.\n",
        "\n",
        "<blockquote class=\"warning\">\n",
        "  <p>\n",
        "    Did you get the following error?\n",
        "    <br>\n",
        "    <br>\n",
        "    <tt>ValueError: Please specify `target_modules` in `peft_config`</tt>\n",
        "    <br>\n",
        "    <br>\n",
        "    Most likely, you don't need to specify the <tt>target_modules</tt> if you're using one of the well-known models. The <tt>peft</tt> library takes care of it by <em>automatically choosing the appropriate targets</em>. However, there may be a gap between the time a popular model is released and the time the library gets updated. So, if you get the error above, look for the quantized layers in your model and list their names in the <tt>target_modules</tt> argument.\n",
        "  </p>\n",
        "</blockquote>\n",
        "\n",
        "The quantized layers (`Linear4bit`) have turned into `lora.Linear4bit` modules where the quantized layer itself became the `base_layer` with some regular `Linear` layers (`lora_A` and `lora_B`) added to the mix.\n",
        "\n",
        "These extra layers would make the model only slightly larger. However, **the model preparation function** (`prepare_model_for_kbit_training()`) turned **every non-quantized layer to full precision (FP32)**, thus resulting in a 30% larger model:"
      ]
    },
    {
      "cell_type": "code",
      "execution_count": null,
      "id": "5f30ecbd",
      "metadata": {
        "id": "5f30ecbd"
      },
      "outputs": [],
      "source": [
        "print(model.get_memory_footprint()/1e6)"
      ]
    },
    {
      "cell_type": "markdown",
      "id": "2e2718a6",
      "metadata": {
        "id": "2e2718a6"
      },
      "source": [
        "Since most parameters are frozen, only a tiny fraction of the total number of parameters are currently trainable, thanks to LoRA!"
      ]
    },
    {
      "cell_type": "code",
      "execution_count": null,
      "id": "c06c42b4",
      "metadata": {
        "id": "c06c42b4"
      },
      "outputs": [],
      "source": [
        "trainable_parms, tot_parms = model.get_nb_trainable_parameters()\n",
        "print(f'Trainable parameters:             {trainable_parms/1e6:.2f}M')\n",
        "print(f'Total parameters:                 {tot_parms/1e6:.2f}M')\n",
        "print(f'Fraction of trainable parameters: {100*trainable_parms/tot_parms:.2f}%')"
      ]
    },
    {
      "cell_type": "markdown",
      "id": "149381b5",
      "metadata": {
        "id": "149381b5"
      },
      "source": [
        "The model is ready to be fine-tuned, but we are still missing one key component: our dataset."
      ]
    },
    {
      "cell_type": "markdown",
      "id": "2547d258",
      "metadata": {
        "id": "2547d258"
      },
      "source": [
        "## Formatting Your Dataset\n",
        "\n",
        "<blockquote style=\"quotes: none !important;\">\n",
        "  <p>\n",
        "    <em>\"Like Yoda, speak, you must. Hrmmm.\"</em>\n",
        "    <br>\n",
        "    <br>\n",
        "    Master Yoda\n",
        "  </p>\n",
        "</blockquote>\n",
        "\n",
        "The dataset [`yoda_sentences`](https://huggingface.co/datasets/dvgodoy/yoda_sentences) consists of 720 sentences translated from English to Yoda-speak. The dataset is hosted on the Hugging Face Hub and we can easily load it using the `load_dataset()` method from the Hugging Face `datasets` library:"
      ]
    },
    {
      "cell_type": "code",
      "execution_count": null,
      "id": "a3251cca",
      "metadata": {
        "id": "a3251cca"
      },
      "outputs": [],
      "source": [
        "dataset = load_dataset(\"dvgodoy/yoda_sentences\", split=\"train\")\n",
        "dataset"
      ]
    },
    {
      "cell_type": "markdown",
      "id": "a1da3b11",
      "metadata": {
        "id": "a1da3b11"
      },
      "source": [
        "The dataset has three columns:\n",
        "\n",
        "* original English sentence (`sentence`)\n",
        "* basic translation to Yoda-speak (`translation`)\n",
        "* enhanced translation including typical `Yesss` and `Hrrmm` interjections (`translation_extra`)"
      ]
    },
    {
      "cell_type": "code",
      "execution_count": null,
      "id": "2c804839",
      "metadata": {
        "id": "2c804839"
      },
      "outputs": [],
      "source": [
        "dataset[0]"
      ]
    },
    {
      "cell_type": "markdown",
      "id": "37005b36",
      "metadata": {
        "id": "37005b36"
      },
      "source": [
        "The `SFTTrainer` we'll be using to fine-tune the model can automatically handle datasets either in **conversational** or **instruction** formats.\n",
        "\n",
        "* **conversational format**\n",
        "\n",
        "```\n",
        "{\"messages\":[\n",
        "  {\"role\": \"system\", \"content\": \"<general directives>\"},\n",
        "  {\"role\": \"user\", \"content\": \"<prompt text>\"},\n",
        "  {\"role\": \"assistant\", \"content\": \"<ideal generated text>\"}\n",
        "]}\n",
        "```\n",
        "\n",
        "* **instruction format**: **[unfortunately, recent versions of `trl` do not support this format properly anymore, please check the important update a few cells below]**\n",
        "\n",
        "```\n",
        "{\"prompt\": \"<prompt text>\",\n",
        "\"completion\": \"<ideal generated text>\"}\n",
        "```\n",
        "\n",
        "Since the instruction format is easier to work with, we'll simply rename and keep the relevant columns from our dataset. That's it for formatting."
      ]
    },
    {
      "cell_type": "code",
      "execution_count": null,
      "id": "601b15b7",
      "metadata": {
        "id": "601b15b7"
      },
      "outputs": [],
      "source": [
        "dataset = dataset.rename_column(\"sentence\", \"prompt\")\n",
        "dataset = dataset.rename_column(\"translation_extra\", \"completion\")\n",
        "dataset = dataset.remove_columns([\"translation\"])\n",
        "dataset"
      ]
    },
    {
      "cell_type": "code",
      "execution_count": null,
      "id": "7ae9739f",
      "metadata": {
        "id": "7ae9739f"
      },
      "outputs": [],
      "source": [
        "dataset[0]"
      ]
    },
    {
      "cell_type": "markdown",
      "id": "bfdfd798",
      "metadata": {
        "id": "bfdfd798"
      },
      "source": [
        "Internally, the training data will be converted from the instruction to the conversational format:"
      ]
    },
    {
      "cell_type": "code",
      "execution_count": null,
      "id": "b150ab79",
      "metadata": {
        "id": "b150ab79"
      },
      "outputs": [],
      "source": [
        "messages = [\n",
        "    {\"role\": \"user\", \"content\": dataset[0]['prompt']},\n",
        "    {\"role\": \"assistant\", \"content\": dataset[0]['completion']}\n",
        "]\n",
        "messages"
      ]
    },
    {
      "cell_type": "markdown",
      "id": "45ab6fe3",
      "metadata": {
        "id": "45ab6fe3"
      },
      "source": [
        "***\n",
        "\n",
        "**IMPORTANT UPDATE**: unfortunately, in more recent versions of the `trl` library, the \"instruction\" format is not properly supported anymore, thus leading to the chat template not being applied to the dataset. In order to avoid this issue, we can convert the dataset to the \"conversational\" format.\n",
        "\n",
        "***"
      ]
    },
    {
      "cell_type": "code",
      "execution_count": null,
      "id": "eca9e9fa",
      "metadata": {
        "id": "eca9e9fa"
      },
      "outputs": [],
      "source": [
        "# Adapted from trl.extras.dataset_formatting.instructions_formatting_function\n",
        "# Converts dataset from prompt/completion format (not supported anymore)\n",
        "# to the conversational format\n",
        "def format_dataset(examples):\n",
        "    if isinstance(examples[\"prompt\"], list):\n",
        "        output_texts = []\n",
        "        for i in range(len(examples[\"prompt\"])):\n",
        "            converted_sample = [\n",
        "                {\"role\": \"user\", \"content\": examples[\"prompt\"][i]},\n",
        "                {\"role\": \"assistant\", \"content\": examples[\"completion\"][i]},\n",
        "            ]\n",
        "            output_texts.append(converted_sample)\n",
        "        return {'messages': output_texts}\n",
        "    else:\n",
        "        converted_sample = [\n",
        "            {\"role\": \"user\", \"content\": examples[\"prompt\"]},\n",
        "            {\"role\": \"assistant\", \"content\": examples[\"completion\"]},\n",
        "        ]\n",
        "        return {'messages': converted_sample}"
      ]
    },
    {
      "cell_type": "code",
      "execution_count": null,
      "id": "cbf5c97e",
      "metadata": {
        "id": "cbf5c97e"
      },
      "outputs": [],
      "source": [
        "dataset = dataset.map(format_dataset).remove_columns(['prompt', 'completion'])"
      ]
    },
    {
      "cell_type": "markdown",
      "id": "288ab1a7",
      "metadata": {
        "id": "288ab1a7"
      },
      "source": [
        "### Tokenizer\n",
        "\n",
        "Before moving into the actual training, we still need to **load the tokenizer that corresponds to our model**. The tokenizer is an important part of this process, determining how to convert text into tokens in the same way used to train the model.\n",
        "\n",
        "For instruction/chat models, the tokenizer also contains its corresponding **chat template** that specifies:\n",
        "\n",
        "* Which **special tokens** should be used, and where they should be placed.\n",
        "* Where the system directives, user prompt, and model response should be placed.\n",
        "* What is the **generation prompt**, that is, the special token that triggers the model's response (more on that in the \"Querying the Model\" section)"
      ]
    },
    {
      "cell_type": "code",
      "execution_count": null,
      "id": "a647f985",
      "metadata": {
        "id": "a647f985"
      },
      "outputs": [],
      "source": [
        "tokenizer = AutoTokenizer.from_pretrained(repo_id)\n",
        "tokenizer.chat_template"
      ]
    },
    {
      "cell_type": "markdown",
      "id": "1b4f7d28",
      "metadata": {
        "id": "1b4f7d28"
      },
      "source": [
        "Never mind the seemingly overcomplicated template (I have added line breaks and indentation to it so it's easier to read). It simply organizes the messages into a coherent block with the appropriate tags, as shown below (`tokenize=False` ensures we get readable text back instead of a numeric sequence of token IDs):"
      ]
    },
    {
      "cell_type": "code",
      "execution_count": null,
      "id": "2b2cbfd6",
      "metadata": {
        "scrolled": true,
        "id": "2b2cbfd6"
      },
      "outputs": [],
      "source": [
        "print(tokenizer.apply_chat_template(messages, tokenize=False))"
      ]
    },
    {
      "cell_type": "markdown",
      "id": "a44fd5c6",
      "metadata": {
        "id": "a44fd5c6"
      },
      "source": [
        "Notice that each interaction is wrapped in either `<|user|>` or `<|assistant|>` tokens at the beginning and `<|end|>` at the end. Moreover, the `<|endoftext|>` token indicates the end of the whole block.\n",
        "\n",
        "Different models will have different templates and tokens to indicate the beginning and end of sentences and blocks.\n",
        "\n",
        "We're now ready to tackle the actual fine-tuning!\n",
        "\n",
        "***\n",
        "**IMPORTANT UPDATE**: due to changes in the default collator used by the `SFTTrainer` class while building the dataset, the EOS token (which is, in Phi-3, the same as the PAD token) was masked in the labels too thus leading to the model not being able to properly stop token generation.\n",
        "\n",
        "In order to address this change, we can assign the UNK token to the PAD token, so the EOS token becomes unique and therefore not masked as part of the labels.\n",
        "***"
      ]
    },
    {
      "cell_type": "code",
      "execution_count": null,
      "id": "4af61ed6",
      "metadata": {
        "id": "4af61ed6"
      },
      "outputs": [],
      "source": [
        "tokenizer.pad_token = tokenizer.unk_token\n",
        "tokenizer.pad_token_id = tokenizer.unk_token_id"
      ]
    },
    {
      "cell_type": "markdown",
      "id": "4ada15ad",
      "metadata": {
        "id": "4ada15ad"
      },
      "source": [
        "## Fine-Tuning with SFTTrainer\n",
        "\n",
        "**Fine-tuning a model**, whether large or otherwise, follows exactly **the same training procedure as training a model from scratch**. We could write our own training loop in pure PyTorch, or we could use Hugging Face's `Trainer` to fine-tune our model.\n",
        "\n",
        "It is much easier, however, to use `SFTTrainer` instead (which uses `Trainer` underneath, by the way), since it takes care of most of the nitty-gritty details for us, as long as we provide it with the following four arguments:\n",
        "\n",
        "* a model\n",
        "* a tokenizer\n",
        "* a dataset\n",
        "* a configuration object\n",
        "\n",
        "We've already got the first three elements; let's work on the last one.\n",
        "\n",
        "### SFTConfig\n",
        "\n",
        "There are many parameters that we can set in the configuration object. We have divided them into four groups:\n",
        "\n",
        "* **Memory usage** optimization parameters related to **gradient accumulation and checkpointing**\n",
        "* **Dataset**-related arguments, such as the `max_seq_length` required by your data, and whether you are packing or not the sequences\n",
        "* Typical **training parameters** such as the `learning_rate` and the `num_train_epochs`\n",
        "* **Environment and logging** parameters such as `output_dir` (this will be the name of the model if you choose to push it to the Hugging Face Hub once it's trained), `logging_dir`, and `logging_steps`.\n",
        "\n",
        "While the _learning rate_ is a very important parameter (as a starting point, you can try the learning rate used to train the base model in the first place), it's actually the **maximum sequence length** that's more likely to cause **out-of-memory issues**.\n",
        "\n",
        "Make sure to always pick the shortest possible `max_seq_length` that makes sense for your use case. In ours, the sentences—both in English and Yoda-speak—are quite short, and a sequence of 64 tokens is more than enough to cover the prompt, the completion, and the added special tokens.\n",
        "\n",
        "<blockquote class=\"tip\">\n",
        "  <p>\n",
        "    Flash attention (which, unfortunately, isn't supported in Colab), allows for more flexibility in working with longer sequences, avoiding the potential issue of OOM errors.\n",
        "  </p>\n",
        "</blockquote>"
      ]
    },
    {
      "cell_type": "code",
      "execution_count": null,
      "id": "7a9979b2",
      "metadata": {
        "id": "7a9979b2"
      },
      "outputs": [],
      "source": [
        "sft_config = SFTConfig(\n",
        "    ## GROUP 1: Memory usage\n",
        "    # These arguments will squeeze the most out of your GPU's RAM\n",
        "    # Checkpointing\n",
        "    gradient_checkpointing=True,\n",
        "    # this saves a LOT of memory\n",
        "    # Set this to avoid exceptions in newer versions of PyTorch\n",
        "    gradient_checkpointing_kwargs={'use_reentrant': False},\n",
        "    # Gradient Accumulation / Batch size\n",
        "    # Actual batch (for updating) is same (1x) as micro-batch size\n",
        "    gradient_accumulation_steps=1,\n",
        "    # The initial (micro) batch size to start off with\n",
        "    per_device_train_batch_size=16,\n",
        "    # If batch size would cause OOM, halves its size until it works\n",
        "    auto_find_batch_size=True,\n",
        "\n",
        "    ## GROUP 2: Dataset-related\n",
        "    max_seq_length=64,\n",
        "    # Dataset\n",
        "    # packing a dataset means no padding is needed\n",
        "    packing=True,\n",
        "\n",
        "    ## GROUP 3: These are typical training parameters\n",
        "    num_train_epochs=10,\n",
        "    learning_rate=3e-4,\n",
        "    # Optimizer\n",
        "    # 8-bit Adam optimizer - doesn't help much if you're using LoRA!\n",
        "    optim='paged_adamw_8bit',\n",
        "\n",
        "    ## GROUP 4: Logging parameters\n",
        "    logging_steps=10,\n",
        "    logging_dir='./logs',\n",
        "    output_dir='./phi3-mini-yoda-adapter',\n",
        "    report_to='none'\n",
        ")"
      ]
    },
    {
      "cell_type": "markdown",
      "id": "971e3099",
      "metadata": {
        "id": "971e3099"
      },
      "source": [
        "### `SFTTrainer`\n",
        "\n",
        "<blockquote style=\"quotes: none !important;\">\n",
        "  <p>\n",
        "    <em>\"It is training time!\"</em>\n",
        "    <br>\n",
        "    <br>\n",
        "    The Hulk\n",
        "  </p>\n",
        "</blockquote>\n",
        "\n",
        "We can now finally create an instance of the supervised fine-tuning trainer:"
      ]
    },
    {
      "cell_type": "code",
      "execution_count": null,
      "id": "f194a639",
      "metadata": {
        "id": "f194a639"
      },
      "outputs": [],
      "source": [
        "trainer = SFTTrainer(\n",
        "    model=model,\n",
        "    processing_class=tokenizer,\n",
        "    args=sft_config,\n",
        "    train_dataset=dataset,\n",
        ")"
      ]
    },
    {
      "cell_type": "markdown",
      "id": "105c4efd",
      "metadata": {
        "id": "105c4efd"
      },
      "source": [
        "The `SFTTrainer` had already preprocessed our dataset, so we can take a look inside and see how each mini-batch was assembled:"
      ]
    },
    {
      "cell_type": "code",
      "execution_count": null,
      "id": "1ffc0403",
      "metadata": {
        "id": "1ffc0403"
      },
      "outputs": [],
      "source": [
        "dl = trainer.get_train_dataloader()\n",
        "batch = next(iter(dl))"
      ]
    },
    {
      "cell_type": "code",
      "execution_count": null,
      "id": "dfaf09e2",
      "metadata": {
        "id": "dfaf09e2"
      },
      "outputs": [],
      "source": [
        "batch['input_ids'][0], batch['labels'][0]"
      ]
    },
    {
      "cell_type": "markdown",
      "id": "eedef238",
      "metadata": {
        "id": "eedef238"
      },
      "source": [
        "The **labels were added automatically**, and they're **exactly the same as the inputs**. Thus, this is a case of **self-supervised fine-tuning**.\n",
        "\n",
        "The shifting of the labels will be handled automatically as well; there's no need to be concerned about it.\n",
        "\n",
        "<blockquote class=\"note\">\n",
        "  <p>\n",
        "    Although this is a 3.8 billion-parameter model, the configuration above allows us to squeeze training, using a mini-batch of eight, into an old setup with a consumer-grade GPU such as a GTX 1060 with only 6 GB RAM. True story!\n",
        "    <br>\n",
        "    It takes about 35 minutes to complete the training process.\n",
        "  </p>\n",
        "</blockquote>\n",
        "\n",
        "Next, we call the `train()` method and wait:"
      ]
    },
    {
      "cell_type": "code",
      "execution_count": null,
      "id": "b12a099d",
      "metadata": {
        "id": "b12a099d"
      },
      "outputs": [],
      "source": [
        "trainer.train()"
      ]
    },
    {
      "cell_type": "markdown",
      "id": "2f4b666a",
      "metadata": {
        "id": "2f4b666a"
      },
      "source": [
        "## Querying the Model\n",
        "\n",
        "Now, our model should be able to produce a Yoda-like sentence as a response to any short sentence we give it.\n",
        "\n",
        "So, the model requires its inputs to be properly formatted. We need to build a list of \"messages\"—ours, from the `user`, in this case—and prompt the model to answer by indicating it's its turn to write.\n",
        "\n",
        "This is the purpose of the `add_generation_prompt` argument: it adds `<|assistant|>` to the end of the conversation, so the model can predict the next word—and continue doing so until it predicts an `<|endoftext|>` token.\n",
        "\n",
        "The helper function below assembles a message (in the conversational format) and **applies the chat template** to it, **appending the generation prompt** to its end."
      ]
    },
    {
      "cell_type": "code",
      "execution_count": null,
      "id": "5854efcd",
      "metadata": {
        "id": "5854efcd"
      },
      "outputs": [],
      "source": [
        "def gen_prompt(tokenizer, sentence):\n",
        "    converted_sample = [\n",
        "        {\"role\": \"user\", \"content\": sentence},\n",
        "    ]\n",
        "    prompt = tokenizer.apply_chat_template(converted_sample,\n",
        "                                           tokenize=False,\n",
        "                                           add_generation_prompt=True)\n",
        "    return prompt"
      ]
    },
    {
      "cell_type": "markdown",
      "id": "438ba48b",
      "metadata": {
        "id": "438ba48b"
      },
      "source": [
        "Let's try generating a prompt for an example sentence:"
      ]
    },
    {
      "cell_type": "code",
      "execution_count": null,
      "id": "480a479b",
      "metadata": {
        "id": "480a479b"
      },
      "outputs": [],
      "source": [
        "sentence = 'The Force is strong in you!'\n",
        "prompt = gen_prompt(tokenizer, sentence)\n",
        "print(prompt)"
      ]
    },
    {
      "cell_type": "markdown",
      "id": "4773df8d",
      "metadata": {
        "id": "4773df8d"
      },
      "source": [
        "The prompt seems about right; let's use it to generate a completion. The helper function below does the following:\n",
        "\n",
        "* It **tokenizes the prompt** into a tensor of token IDs (`add_special_tokens` is set to `False` because the tokens were already added by the chat template).\n",
        "* It sets the model to **evaluation mode**.\n",
        "* It calls the model's `generate()` method to **produce the output** (generated token IDs).\n",
        "* It **decodes the generated token IDs** back into readable text."
      ]
    },
    {
      "cell_type": "code",
      "execution_count": null,
      "id": "65a53ea9",
      "metadata": {
        "id": "65a53ea9"
      },
      "outputs": [],
      "source": [
        "def generate(model, tokenizer, prompt, max_new_tokens=64, skip_special_tokens=False):\n",
        "    tokenized_input = tokenizer(prompt, add_special_tokens=False, return_tensors=\"pt\").to(model.device)\n",
        "\n",
        "    model.eval()\n",
        "    generation_output = model.generate(**tokenized_input,\n",
        "                                       eos_token_id=tokenizer.eos_token_id,\n",
        "                                       max_new_tokens=max_new_tokens)\n",
        "\n",
        "    output = tokenizer.batch_decode(generation_output,\n",
        "                                    skip_special_tokens=skip_special_tokens)\n",
        "    return output[0]"
      ]
    },
    {
      "cell_type": "markdown",
      "id": "e1f6b3bf",
      "metadata": {
        "id": "e1f6b3bf"
      },
      "source": [
        "Now, we can finally try out our model and see if it's indeed capable of generating Yoda-speak."
      ]
    },
    {
      "cell_type": "code",
      "execution_count": null,
      "id": "33dca746",
      "metadata": {
        "id": "33dca746"
      },
      "outputs": [],
      "source": [
        "print(generate(model, tokenizer, prompt))"
      ]
    },
    {
      "cell_type": "markdown",
      "id": "56e821c3",
      "metadata": {
        "id": "56e821c3"
      },
      "source": [
        "Awesome! It works! Like Yoda, the model speaks. Hrrrmm.\n",
        "\n",
        "Congratulations, you've fine-tuned your first LLM!\n",
        "\n",
        "Now, you've got a small adapter that can be loaded into an instance of the Phi-3 Mini 4K Instruct model to turn it into a Yoda translator! How cool is that?"
      ]
    },
    {
      "cell_type": "markdown",
      "id": "898dc809",
      "metadata": {
        "id": "898dc809"
      },
      "source": [
        "## Saving the Adapter\n",
        "\n",
        "Once the training is completed, you can save the adapter (and the tokenizer) to disk by calling the trainer's `save_model()` method. It will save everything to the specified folder:"
      ]
    },
    {
      "cell_type": "code",
      "execution_count": null,
      "id": "b41a86d2",
      "metadata": {
        "id": "b41a86d2"
      },
      "outputs": [],
      "source": [
        "trainer.save_model('local-phi3-mini-yoda-adapter')"
      ]
    },
    {
      "cell_type": "markdown",
      "id": "aaae1c2d",
      "metadata": {
        "id": "aaae1c2d"
      },
      "source": [
        "The files that were saved include:\n",
        "\n",
        "* the  adapter configuration (`adapter_config.json`) and weights (`adapter_model.safetensors`)—the adapter itself is just 50 MB in size\n",
        "* the training arguments (`training_args.bin`)\n",
        "* the tokenizer (`tokenizer.json` and `tokenizer.model`), its configuration (`tokenizer_config.json`), and its special tokens (`added_tokens.json` and `speciak_tokens_map.json`)\n",
        "* a README file"
      ]
    },
    {
      "cell_type": "code",
      "execution_count": null,
      "id": "761d1ba3",
      "metadata": {
        "id": "761d1ba3"
      },
      "outputs": [],
      "source": [
        "os.listdir('local-phi3-mini-yoda-adapter')"
      ]
    },
    {
      "cell_type": "markdown",
      "id": "014134ea",
      "metadata": {
        "id": "014134ea"
      },
      "source": [
        "If you'd like to share your adapter with everyone, you can also push it to the Hugging Face Hub. First, log in using a token that has permission to write:"
      ]
    },
    {
      "cell_type": "code",
      "execution_count": null,
      "id": "33c1005a",
      "metadata": {
        "id": "33c1005a"
      },
      "outputs": [],
      "source": [
        "from huggingface_hub import login\n",
        "login()"
      ]
    },
    {
      "cell_type": "markdown",
      "id": "38c5de92",
      "metadata": {
        "id": "38c5de92"
      },
      "source": [
        "The code above will ask you to enter an access token:\n",
        "\n",
        "![](https://github.com/dvgodoy/FineTuningLLMs/blob/main/images/ch0/hub0.png?raw=True)\n",
        "<center>Figure 0.1 - Logging into the Hugging Face Hub</center>\n",
        "\n",
        "A successful login should look like this (pay attention to the permissions):\n",
        "\n",
        "![](https://github.com/dvgodoy/FineTuningLLMs/blob/main/images/ch0/hub1.png?raw=True)\n",
        "<center>Figure 0.2 - Successful Login</center>\n",
        "\n",
        "Then, you can use the trainer's `push_to_hub()` method to upload everything to your account in the Hub. The model will be named after the `output_dir` argument of the training arguments:"
      ]
    },
    {
      "cell_type": "code",
      "execution_count": null,
      "id": "e11e931a",
      "metadata": {
        "id": "e11e931a"
      },
      "outputs": [],
      "source": [
        "trainer.push_to_hub()"
      ]
    },
    {
      "cell_type": "markdown",
      "id": "a5ca8a42",
      "metadata": {
        "id": "a5ca8a42"
      },
      "source": [
        "There you go! Our model is out there in the world, and anyone can use it to translate English into Yoda speak.\n",
        "\n",
        "That's a wrap!"
      ]
    },
    {
      "cell_type": "markdown",
      "source": [
        "## Try to Query the Model with Usual Question"
      ],
      "metadata": {
        "id": "GI7zg2U79OV3"
      },
      "id": "GI7zg2U79OV3"
    },
    {
      "cell_type": "code",
      "source": [
        "print('## Try to Query the Model with Usual Question')"
      ],
      "metadata": {
        "id": "bco9eJ2bm4ec",
        "outputId": "add706eb-d7d7-4d48-df51-a4250b10b0ba",
        "colab": {
          "base_uri": "https://localhost:8080/"
        }
      },
      "id": "bco9eJ2bm4ec",
      "execution_count": 1,
      "outputs": [
        {
          "output_type": "stream",
          "name": "stdout",
          "text": [
            "## Try to Query the Model with Usual Question\n"
          ]
        }
      ]
    },
    {
      "cell_type": "code",
      "source": [
        "sentence = 'You are a helpful Assistant. Please introduce what is Java(programming language).'\n",
        "prompt = gen_prompt(tokenizer, sentence)\n",
        "print(prompt)"
      ],
      "metadata": {
        "id": "qV4wB5PU8ZYe"
      },
      "id": "qV4wB5PU8ZYe",
      "execution_count": null,
      "outputs": []
    },
    {
      "cell_type": "code",
      "source": [
        "print(generate(model, tokenizer, prompt))"
      ],
      "metadata": {
        "id": "KfYkA-35803c"
      },
      "id": "KfYkA-35803c",
      "execution_count": null,
      "outputs": []
    },
    {
      "cell_type": "code",
      "source": [
        "sentence = 'Attention: Please do not speak like Yoda. You are a helpful assistant. Answer my question with your knowledge.'\n",
        "prompt = gen_prompt(tokenizer, sentence)\n",
        "print(prompt)"
      ],
      "metadata": {
        "id": "nJT9zPqi9buP"
      },
      "id": "nJT9zPqi9buP",
      "execution_count": null,
      "outputs": []
    },
    {
      "cell_type": "code",
      "source": [
        "print(generate(model, tokenizer, prompt))"
      ],
      "metadata": {
        "id": "i0arh5wa91Sl"
      },
      "id": "i0arh5wa91Sl",
      "execution_count": null,
      "outputs": []
    },
    {
      "cell_type": "markdown",
      "source": [
        "This model has been contaminated by Yoda's translation pair."
      ],
      "metadata": {
        "id": "OL3WBgg3-pBB"
      },
      "id": "OL3WBgg3-pBB"
    },
    {
      "cell_type": "markdown",
      "source": [
        "## Reload and Inference with original Microsoft Phi-3 Model"
      ],
      "metadata": {
        "id": "4GwTcv79_WtJ"
      },
      "id": "4GwTcv79_WtJ"
    },
    {
      "cell_type": "code",
      "source": [
        "print('## Reload and Inference with original Microsoft Phi-3 Model')"
      ],
      "metadata": {
        "id": "SYiGYa1anO-v"
      },
      "id": "SYiGYa1anO-v",
      "execution_count": null,
      "outputs": []
    },
    {
      "cell_type": "code",
      "source": [
        "bnb_config = BitsAndBytesConfig(\n",
        "   load_in_4bit=True,\n",
        "   bnb_4bit_quant_type=\"nf4\",\n",
        "   bnb_4bit_use_double_quant=True,\n",
        "   bnb_4bit_compute_dtype=torch.float32\n",
        ")\n",
        "repo_id = 'microsoft/Phi-3-mini-4k-instruct'\n",
        "model = AutoModelForCausalLM.from_pretrained(repo_id,\n",
        "                                             device_map=\"cuda:0\",\n",
        "                                             quantization_config=bnb_config\n",
        ")"
      ],
      "metadata": {
        "id": "yi4w8KMpAjuU"
      },
      "id": "yi4w8KMpAjuU",
      "execution_count": null,
      "outputs": []
    },
    {
      "cell_type": "code",
      "source": [
        "print(model.get_memory_footprint()/1e6)"
      ],
      "metadata": {
        "id": "1PDof7GSBEhD"
      },
      "id": "1PDof7GSBEhD",
      "execution_count": null,
      "outputs": []
    },
    {
      "cell_type": "code",
      "source": [
        "model"
      ],
      "metadata": {
        "id": "f2vFOdKSB2X4"
      },
      "id": "f2vFOdKSB2X4",
      "execution_count": null,
      "outputs": []
    },
    {
      "cell_type": "code",
      "source": [
        "sentence = 'Please introduce what is Java(programming language).'\n",
        "prompt = gen_prompt(tokenizer, sentence)\n",
        "print(prompt)"
      ],
      "metadata": {
        "id": "GdC6giJSCKb1"
      },
      "id": "GdC6giJSCKb1",
      "execution_count": null,
      "outputs": []
    },
    {
      "cell_type": "code",
      "source": [
        "print(generate(model, tokenizer, prompt))"
      ],
      "metadata": {
        "id": "l2V0v5iuCPEC"
      },
      "id": "l2V0v5iuCPEC",
      "execution_count": null,
      "outputs": []
    },
    {
      "cell_type": "markdown",
      "source": [
        "The rationality of inferencing the origin Microsoft Phi-3 mini model is proof."
      ],
      "metadata": {
        "id": "cCGjXD2bClx8"
      },
      "id": "cCGjXD2bClx8"
    },
    {
      "cell_type": "markdown",
      "source": [
        "## Reload and Inference the Finetuned Adapter and Combine with original Microsoft Phi-3 Model"
      ],
      "metadata": {
        "id": "hNPq1fJoG5in"
      },
      "id": "hNPq1fJoG5in"
    },
    {
      "cell_type": "code",
      "source": [
        "print('## Reload and Inference the Finetuned Adapter and Combine with original Microsoft Phi-3 Model')"
      ],
      "metadata": {
        "id": "aJw83xwtnR5W"
      },
      "id": "aJw83xwtnR5W",
      "execution_count": null,
      "outputs": []
    },
    {
      "cell_type": "code",
      "metadata": {
        "id": "49f90e2e"
      },
      "source": [
        "from peft import PeftModel\n",
        "from transformers import AutoModelForCausalLM, AutoTokenizer, BitsAndBytesConfig\n",
        "import torch\n",
        "\n",
        "# 1. Load the original quantized base model\n",
        "bnb_config = BitsAndBytesConfig(\n",
        "   load_in_4bit=True,\n",
        "   bnb_4bit_quant_type=\"nf4\",\n",
        "   bnb_4bit_use_double_quant=True,\n",
        "   bnb_4bit_compute_dtype=torch.float32\n",
        ")\n",
        "repo_id = 'microsoft/Phi-3-mini-4k-instruct'\n",
        "model = AutoModelForCausalLM.from_pretrained(repo_id,\n",
        "                                             device_map=\"cuda:0\",\n",
        "                                             quantization_config=bnb_config\n",
        ")\n",
        "\n",
        "# Load the tokenizer\n",
        "tokenizer = AutoTokenizer.from_pretrained(repo_id)\n",
        "tokenizer.pad_token = tokenizer.unk_token\n",
        "tokenizer.pad_token_id = tokenizer.unk_token_id\n",
        "\n",
        "# 2. Load the adapter using the PEFT library\n",
        "adapter_path = './local-phi3-mini-yoda-adapter'\n",
        "model = PeftModel.from_pretrained(model, adapter_path)\n",
        "\n",
        "# 3. (Optional) Merge the adapter weights into the base model\n",
        "# This step is not strictly necessary for inference but can sometimes\n",
        "# simplify deployment by having a single model object.\n",
        "# model = model.merge_and_unload()\n",
        "\n",
        "# Now 'model' is the base model with the loaded adapter\n",
        "print(\"Model with adapter loaded successfully!\")"
      ],
      "id": "49f90e2e",
      "execution_count": null,
      "outputs": []
    },
    {
      "cell_type": "code",
      "source": [
        "sentence = 'Please introduce what is Java(programming language).'\n",
        "prompt = gen_prompt(tokenizer, sentence)\n",
        "print(prompt)"
      ],
      "metadata": {
        "id": "-mkLTMgwH2vB"
      },
      "execution_count": null,
      "outputs": [],
      "id": "-mkLTMgwH2vB"
    },
    {
      "cell_type": "code",
      "source": [
        "print(generate(model, tokenizer, prompt))"
      ],
      "metadata": {
        "id": "t6RS-CTCH2vC"
      },
      "execution_count": null,
      "outputs": [],
      "id": "t6RS-CTCH2vC"
    }
  ],
  "metadata": {
    "accelerator": "GPU",
    "colab": {
      "gpuType": "T4",
      "provenance": [],
      "include_colab_link": true
    },
    "kernelspec": {
      "display_name": "Python 3 (ipykernel)",
      "language": "python",
      "name": "python3"
    },
    "language_info": {
      "codemirror_mode": {
        "name": "ipython",
        "version": 3
      },
      "file_extension": ".py",
      "mimetype": "text/x-python",
      "name": "python",
      "nbconvert_exporter": "python",
      "pygments_lexer": "ipython3",
      "version": "3.9.0"
    }
  },
  "nbformat": 4,
  "nbformat_minor": 5
}